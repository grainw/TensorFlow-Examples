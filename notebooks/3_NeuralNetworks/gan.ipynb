{
 "cells": [
  {
   "cell_type": "markdown",
   "metadata": {
    "collapsed": true
   },
   "source": [
    "# Generative Adversarial Network Example\n",
    "\n",
    "Build a generative adversarial network (GAN) to generate digit images from a noise distribution with TensorFlow.\n",
    "\n",
    "- Author: Aymeric Damien\n",
    "- Project: https://github.com/aymericdamien/TensorFlow-Examples/"
   ]
  },
  {
   "cell_type": "markdown",
   "metadata": {},
   "source": [
    "## GAN Overview\n",
    "\n",
    "<img src=\"http://www.timzhangyuxuan.com/static/images/project_DCGAN/structure.png\" alt=\"nn\" style=\"width: 800px;\"/>\n",
    "\n",
    "References:\n",
    "- [Generative adversarial nets](https://arxiv.org/pdf/1406.2661.pdf). I Goodfellow, J Pouget-Abadie, M Mirza, B Xu, D Warde-Farley, S Ozair, Y. Bengio. Advances in neural information processing systems, 2672-2680.\n",
    "- [Understanding the difficulty of training deep feedforward neural networks](www.cs.cmu.edu/~bhiksha/courses/deeplearning/Fall.../AISTATS2010_Glorot.pdf). X Glorot, Y Bengio. Aistats 9, 249-256\n",
    "\n",
    "## MNIST Dataset Overview\n",
    "\n",
    "This example is using MNIST handwritten digits. The dataset contains 60,000 examples for training and 10,000 examples for testing. The digits have been size-normalized and centered in a fixed-size image (28x28 pixels) with values from 0 to 1. For simplicity, each image has been flatten and converted to a 1-D numpy array of 784 features (28*28).\n",
    "\n",
    "![MNIST Dataset](http://neuralnetworksanddeeplearning.com/images/mnist_100_digits.png)\n",
    "\n",
    "More info: http://yann.lecun.com/exdb/mnist/"
   ]
  },
  {
   "cell_type": "code",
   "execution_count": 1,
   "metadata": {
    "collapsed": true
   },
   "outputs": [],
   "source": [
    "from __future__ import division, print_function, absolute_import\n",
    "\n",
    "import matplotlib.pyplot as plt\n",
    "import numpy as np\n",
    "import tensorflow as tf"
   ]
  },
  {
   "cell_type": "code",
   "execution_count": 2,
   "metadata": {
    "collapsed": false
   },
   "outputs": [
    {
     "name": "stdout",
     "output_type": "stream",
     "text": [
      "Successfully downloaded train-images-idx3-ubyte.gz 9912422 bytes.\n",
      "Extracting /tmp/data/train-images-idx3-ubyte.gz\n",
      "Successfully downloaded train-labels-idx1-ubyte.gz 28881 bytes.\n",
      "Extracting /tmp/data/train-labels-idx1-ubyte.gz\n",
      "Successfully downloaded t10k-images-idx3-ubyte.gz 1648877 bytes.\n",
      "Extracting /tmp/data/t10k-images-idx3-ubyte.gz\n",
      "Successfully downloaded t10k-labels-idx1-ubyte.gz 4542 bytes.\n",
      "Extracting /tmp/data/t10k-labels-idx1-ubyte.gz\n"
     ]
    }
   ],
   "source": [
    "# Import MNIST data\n",
    "from tensorflow.examples.tutorials.mnist import input_data\n",
    "mnist = input_data.read_data_sets(\"/tmp/data/\", one_hot=True)"
   ]
  },
  {
   "cell_type": "code",
   "execution_count": 3,
   "metadata": {
    "collapsed": true
   },
   "outputs": [],
   "source": [
    "# Training Params\n",
    "num_steps = 100000\n",
    "batch_size = 128\n",
    "learning_rate = 0.0002\n",
    "\n",
    "# Network Params\n",
    "image_dim = 784 # 28*28 pixels\n",
    "gen_hidden_dim = 256\n",
    "disc_hidden_dim = 256\n",
    "noise_dim = 100 # Noise data points\n",
    "\n",
    "# A custom initialization (see Xavier Glorot init)\n",
    "def glorot_init(shape):\n",
    "    return tf.random_normal(shape=shape, stddev=1. / tf.sqrt(shape[0] / 2.))"
   ]
  },
  {
   "cell_type": "code",
   "execution_count": 4,
   "metadata": {
    "collapsed": true
   },
   "outputs": [],
   "source": [
    "# Store layers weight & bias\n",
    "weights = {\n",
    "    'gen_hidden1': tf.Variable(glorot_init([noise_dim, gen_hidden_dim])),\n",
    "    'gen_out': tf.Variable(glorot_init([gen_hidden_dim, image_dim])),\n",
    "    'disc_hidden1': tf.Variable(glorot_init([image_dim, disc_hidden_dim])),\n",
    "    'disc_out': tf.Variable(glorot_init([disc_hidden_dim, 1])),\n",
    "}\n",
    "biases = {\n",
    "    'gen_hidden1': tf.Variable(tf.zeros([gen_hidden_dim])),\n",
    "    'gen_out': tf.Variable(tf.zeros([image_dim])),\n",
    "    'disc_hidden1': tf.Variable(tf.zeros([disc_hidden_dim])),\n",
    "    'disc_out': tf.Variable(tf.zeros([1])),\n",
    "}"
   ]
  },
  {
   "cell_type": "code",
   "execution_count": 5,
   "metadata": {
    "collapsed": true
   },
   "outputs": [],
   "source": [
    "# Generator\n",
    "def generator(x):\n",
    "    hidden_layer = tf.matmul(x, weights['gen_hidden1'])\n",
    "    hidden_layer = tf.add(hidden_layer, biases['gen_hidden1'])\n",
    "    hidden_layer = tf.nn.relu(hidden_layer)\n",
    "    out_layer = tf.matmul(hidden_layer, weights['gen_out'])\n",
    "    out_layer = tf.add(out_layer, biases['gen_out'])\n",
    "    out_layer = tf.nn.sigmoid(out_layer)\n",
    "    return out_layer\n",
    "\n",
    "\n",
    "# Discriminator\n",
    "def discriminator(x):\n",
    "    hidden_layer = tf.matmul(x, weights['disc_hidden1'])\n",
    "    hidden_layer = tf.add(hidden_layer, biases['disc_hidden1'])\n",
    "    hidden_layer = tf.nn.relu(hidden_layer)\n",
    "    out_layer = tf.matmul(hidden_layer, weights['disc_out'])\n",
    "    out_layer = tf.add(out_layer, biases['disc_out'])\n",
    "    out_layer = tf.nn.sigmoid(out_layer)\n",
    "    return out_layer\n",
    "\n",
    "# Build Networks\n",
    "# Network Inputs\n",
    "gen_input = tf.placeholder(tf.float32, shape=[None, noise_dim], name='input_noise')\n",
    "disc_input = tf.placeholder(tf.float32, shape=[None, image_dim], name='disc_input')\n",
    "\n",
    "# Build Generator Network\n",
    "gen_sample = generator(gen_input)\n",
    "\n",
    "# Build 2 Discriminator Networks (one from noise input, one from generated samples)\n",
    "disc_real = discriminator(disc_input)\n",
    "disc_fake = discriminator(gen_sample)\n",
    "\n",
    "# Build Loss\n",
    "gen_loss = -tf.reduce_mean(tf.log(disc_fake))\n",
    "disc_loss = -tf.reduce_mean(tf.log(disc_real) + tf.log(1. - disc_fake))\n",
    "\n",
    "# Build Optimizers\n",
    "optimizer_gen = tf.train.AdamOptimizer(learning_rate=learning_rate)\n",
    "optimizer_disc = tf.train.AdamOptimizer(learning_rate=learning_rate)\n",
    "\n",
    "# Training Variables for each optimizer\n",
    "# By default in TensorFlow, all variables are updated by each optimizer, so we\n",
    "# need to precise for each one of them the specific variables to update.\n",
    "# Generator Network Variables\n",
    "gen_vars = [weights['gen_hidden1'], weights['gen_out'],\n",
    "            biases['gen_hidden1'], biases['gen_out']]\n",
    "# Discriminator Network Variables\n",
    "disc_vars = [weights['disc_hidden1'], weights['disc_out'],\n",
    "            biases['disc_hidden1'], biases['disc_out']]\n",
    "\n",
    "# Create training operations\n",
    "train_gen = optimizer_gen.minimize(gen_loss, var_list=gen_vars)\n",
    "train_disc = optimizer_disc.minimize(disc_loss, var_list=disc_vars)"
   ]
  },
  {
   "cell_type": "code",
   "execution_count": 6,
   "metadata": {
    "collapsed": false
   },
   "outputs": [
    {
     "name": "stdout",
     "output_type": "stream",
     "text": [
      "Step 1: Generator Loss: 0.480289, Discriminator Loss: 1.374829\n",
      "Step 2000: Generator Loss: 4.405131, Discriminator Loss: 0.042884\n",
      "Step 4000: Generator Loss: 4.055821, Discriminator Loss: 0.081942\n",
      "Step 6000: Generator Loss: 3.704482, Discriminator Loss: 0.154858\n",
      "Step 8000: Generator Loss: 4.036582, Discriminator Loss: 0.171436\n",
      "Step 10000: Generator Loss: 4.020682, Discriminator Loss: 0.111143\n",
      "Step 12000: Generator Loss: 4.069520, Discriminator Loss: 0.189743\n",
      "Step 14000: Generator Loss: 3.590281, Discriminator Loss: 0.226319\n",
      "Step 16000: Generator Loss: 3.077963, Discriminator Loss: 0.348932\n",
      "Step 18000: Generator Loss: 3.185395, Discriminator Loss: 0.420991\n",
      "Step 20000: Generator Loss: 3.011705, Discriminator Loss: 0.435869\n",
      "Step 22000: Generator Loss: 2.786958, Discriminator Loss: 0.307113\n",
      "Step 24000: Generator Loss: 3.871442, Discriminator Loss: 0.250833\n",
      "Step 26000: Generator Loss: 3.387416, Discriminator Loss: 0.329115\n",
      "Step 28000: Generator Loss: 3.342850, Discriminator Loss: 0.395349\n",
      "Step 30000: Generator Loss: 3.564722, Discriminator Loss: 0.227766\n",
      "Step 32000: Generator Loss: 3.209312, Discriminator Loss: 0.317573\n",
      "Step 34000: Generator Loss: 3.402765, Discriminator Loss: 0.403201\n",
      "Step 36000: Generator Loss: 3.272716, Discriminator Loss: 0.346659\n",
      "Step 38000: Generator Loss: 3.118347, Discriminator Loss: 0.477020\n",
      "Step 40000: Generator Loss: 3.004082, Discriminator Loss: 0.413243\n",
      "Step 42000: Generator Loss: 2.686921, Discriminator Loss: 0.440165\n",
      "Step 44000: Generator Loss: 2.957092, Discriminator Loss: 0.361533\n",
      "Step 46000: Generator Loss: 2.692080, Discriminator Loss: 0.473278\n",
      "Step 48000: Generator Loss: 2.595994, Discriminator Loss: 0.436101\n",
      "Step 50000: Generator Loss: 2.903998, Discriminator Loss: 0.568820\n",
      "Step 52000: Generator Loss: 2.716449, Discriminator Loss: 0.406760\n",
      "Step 54000: Generator Loss: 3.082338, Discriminator Loss: 0.390295\n",
      "Step 56000: Generator Loss: 3.075090, Discriminator Loss: 0.605317\n",
      "Step 58000: Generator Loss: 2.712142, Discriminator Loss: 0.388136\n",
      "Step 60000: Generator Loss: 3.052924, Discriminator Loss: 0.439908\n",
      "Step 62000: Generator Loss: 2.822824, Discriminator Loss: 0.500420\n",
      "Step 64000: Generator Loss: 2.538993, Discriminator Loss: 0.467533\n",
      "Step 66000: Generator Loss: 3.130664, Discriminator Loss: 0.426208\n",
      "Step 68000: Generator Loss: 3.270853, Discriminator Loss: 0.489921\n",
      "Step 70000: Generator Loss: 2.959530, Discriminator Loss: 0.455571\n",
      "Step 72000: Generator Loss: 3.008328, Discriminator Loss: 0.391799\n",
      "Step 74000: Generator Loss: 2.880600, Discriminator Loss: 0.464206\n",
      "Step 76000: Generator Loss: 2.619662, Discriminator Loss: 0.445149\n",
      "Step 78000: Generator Loss: 3.251897, Discriminator Loss: 0.447404\n",
      "Step 80000: Generator Loss: 2.551214, Discriminator Loss: 0.548108\n",
      "Step 82000: Generator Loss: 2.906772, Discriminator Loss: 0.540178\n",
      "Step 84000: Generator Loss: 2.954833, Discriminator Loss: 0.360969\n",
      "Step 86000: Generator Loss: 2.981294, Discriminator Loss: 0.408188\n",
      "Step 88000: Generator Loss: 3.116811, Discriminator Loss: 0.498805\n",
      "Step 90000: Generator Loss: 2.995378, Discriminator Loss: 0.532048\n",
      "Step 92000: Generator Loss: 2.657025, Discriminator Loss: 0.421208\n",
      "Step 94000: Generator Loss: 3.035678, Discriminator Loss: 0.406078\n",
      "Step 96000: Generator Loss: 3.312956, Discriminator Loss: 0.454974\n",
      "Step 98000: Generator Loss: 2.981611, Discriminator Loss: 0.445207\n",
      "Step 100000: Generator Loss: 2.898904, Discriminator Loss: 0.441635\n"
     ]
    }
   ],
   "source": [
    "# Initializing all variables\n",
    "init = tf.global_variables_initializer()\n",
    "\n",
    "sess = tf.Session() \n",
    "sess.run(init)\n",
    "\n",
    "# Training\n",
    "for i in range(1, num_steps+1):\n",
    "    # Prepare Data\n",
    "    # Get the next batch of MNIST data (only images are needed, not labels)\n",
    "    batch_x, _ = mnist.train.next_batch(batch_size)\n",
    "    # Generate noise to feed to the generator\n",
    "    z = np.random.uniform(-1., 1., size=[batch_size, noise_dim])\n",
    "\n",
    "    # Train\n",
    "    feed_dict = {disc_input: batch_x, gen_input: z}\n",
    "    _, _, gl, dl = sess.run([train_gen, train_disc, gen_loss, disc_loss],\n",
    "                            feed_dict=feed_dict)\n",
    "    if i % 2000 == 0 or i == 1:\n",
    "        print('Step %i: Generator Loss: %f, Discriminator Loss: %f' % (i, gl, dl))"
   ]
  },
  {
   "cell_type": "code",
   "execution_count": null,
   "metadata": {
    "collapsed": false
   },
   "outputs": [],
   "source": [
    "# Generate images from noise, using the generator network.\n",
    "n = 6\n",
    "canvas = np.empty((28 * n, 28 * n))\n",
    "for i in range(n):\n",
    "    # Noise input.\n",
    "    z = np.random.uniform(-1., 1., size=[n, noise_dim])\n",
    "    # Generate image from noise.\n",
    "    g = sess.run(gen_sample, feed_dict={gen_input: z})\n",
    "    # Reverse colours for better display\n",
    "    g = -1 * (g - 1)\n",
    "    for j in range(n):\n",
    "        # Draw the generated digits\n",
    "        canvas[i * 28:(i + 1) * 28, j * 28:(j + 1) * 28] = g[j].reshape([28, 28])\n",
    "\n",
    "plt.figure(figsize=(n, n))\n",
    "plt.imshow(canvas, origin=\"upper\", cmap=\"gray\")\n",
    "plt.show()"
   ]
  },
  {
   "cell_type": "code",
   "execution_count": null,
   "metadata": {
    "collapsed": true
   },
   "outputs": [],
   "source": []
  }
 ],
 "metadata": {
  "kernelspec": {
   "display_name": "Python 2",
   "language": "python",
   "name": "python2"
  },
  "language_info": {
   "codemirror_mode": {
    "name": "ipython",
    "version": 2
   },
   "file_extension": ".py",
   "mimetype": "text/x-python",
   "name": "python",
   "nbconvert_exporter": "python",
   "pygments_lexer": "ipython2",
   "version": "2.7.13"
  }
 },
 "nbformat": 4,
 "nbformat_minor": 2
}
